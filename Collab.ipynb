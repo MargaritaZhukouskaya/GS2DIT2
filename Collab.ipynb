{
  "nbformat": 4,
  "nbformat_minor": 0,
  "metadata": {
    "colab": {
      "provenance": [],
      "authorship_tag": "ABX9TyOZ3h5c/tMEGfprfblJEsbT",
      "include_colab_link": true
    },
    "kernelspec": {
      "name": "python3",
      "display_name": "Python 3"
    },
    "language_info": {
      "name": "python"
    }
  },
  "cells": [
    {
      "cell_type": "markdown",
      "metadata": {
        "id": "view-in-github",
        "colab_type": "text"
      },
      "source": [
        "<a href=\"https://colab.research.google.com/github/MargaritaZhukouskaya/GS2DIT2/blob/main/Collab.ipynb\" target=\"_parent\"><img src=\"https://colab.research.google.com/assets/colab-badge.svg\" alt=\"Open In Colab\"/></a>"
      ]
    },
    {
      "cell_type": "code",
      "source": [],
      "metadata": {
        "id": "Cwpp7Jz-SJqG"
      },
      "execution_count": null,
      "outputs": []
    },
    {
      "cell_type": "markdown",
      "source": [
        "#Code section "
      ],
      "metadata": {
        "id": "sI59rBciSrtJ"
      }
    },
    {
      "cell_type": "code",
      "source": [
        "a=1"
      ],
      "metadata": {
        "id": "o-PkMyveS3gy"
      },
      "execution_count": 3,
      "outputs": []
    },
    {
      "cell_type": "code",
      "source": [
        "b=2"
      ],
      "metadata": {
        "id": "3RHalJsDTIXs"
      },
      "execution_count": 4,
      "outputs": []
    },
    {
      "cell_type": "code",
      "source": [
        "a+b"
      ],
      "metadata": {
        "colab": {
          "base_uri": "https://localhost:8080/"
        },
        "id": "Tzh8B79uTMPE",
        "outputId": "b36b92bc-1894-41d3-def6-300e0595b8de"
      },
      "execution_count": 5,
      "outputs": [
        {
          "output_type": "execute_result",
          "data": {
            "text/plain": [
              "3"
            ]
          },
          "metadata": {},
          "execution_count": 5
        }
      ]
    },
    {
      "cell_type": "markdown",
      "source": [
        "#Text section "
      ],
      "metadata": {
        "id": "JyDMZbhxR-sG"
      }
    },
    {
      "cell_type": "markdown",
      "source": [
        "print('Hello World') "
      ],
      "metadata": {
        "id": "G8VJnLFnSg-p"
      }
    },
    {
      "cell_type": "markdown",
      "source": [
        "*print('Hello word')* "
      ],
      "metadata": {
        "id": "Qd7HowHxTnvM"
      }
    },
    {
      "cell_type": "markdown",
      "source": [
        "```python\n",
        "print(\"Hellow world\")\n",
        "```"
      ],
      "metadata": {
        "id": "q6NCRCnTShIZ"
      }
    },
    {
      "cell_type": "markdown",
      "source": [],
      "metadata": {
        "id": "7akvoIlLShPC"
      }
    }
  ]
}