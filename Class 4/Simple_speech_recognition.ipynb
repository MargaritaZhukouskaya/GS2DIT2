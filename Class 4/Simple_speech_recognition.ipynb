{
  "cells": [
    {
      "cell_type": "markdown",
      "metadata": {
        "id": "view-in-github",
        "colab_type": "text"
      },
      "source": [
        "<a href=\"https://colab.research.google.com/github/MargaritaZhukouskaya/GS2DIT2/blob/main/Class%204/Simple_speech_recognition.ipynb\" target=\"_parent\"><img src=\"https://colab.research.google.com/assets/colab-badge.svg\" alt=\"Open In Colab\"/></a>"
      ]
    },
    {
      "cell_type": "markdown",
      "source": [
        "Code source: https://colab.research.google.com/github/tensorflow/docs/blob/master/site/en/tutorials/audio/simple_audio.ipynb#scrollTo=wTAg4vsn3oEb"
      ],
      "metadata": {
        "id": "B81jKekEobND"
      }
    },
    {
      "cell_type": "markdown",
      "metadata": {
        "id": "fluF3_oOgkWF"
      },
      "source": [
        "##### Copyright 2020 The TensorFlow Authors."
      ]
    },
    {
      "cell_type": "code",
      "execution_count": null,
      "metadata": {
        "cellView": "form",
        "id": "AJs7HHFmg1M9"
      },
      "outputs": [],
      "source": [
        "#@title Licensed under the Apache License, Version 2.0 (the \"License\");\n",
        "# you may not use this file except in compliance with the License.\n",
        "# You may obtain a copy of the License at\n",
        "#\n",
        "# https://www.apache.org/licenses/LICENSE-2.0\n",
        "#\n",
        "# Unless required by applicable law or agreed to in writing, software\n",
        "# distributed under the License is distributed on an \"AS IS\" BASIS,\n",
        "# WITHOUT WARRANTIES OR CONDITIONS OF ANY KIND, either express or implied.\n",
        "# See the License for the specific language governing permissions and\n",
        "# limitations under the License."
      ]
    },
    {
      "cell_type": "markdown",
      "metadata": {
        "id": "jYysdyb-CaWM"
      },
      "source": [
        "# Simple audio recognition: Recognizing keywords"
      ]
    },
    {
      "cell_type": "markdown",
      "metadata": {
        "id": "CNbqmZy0gbyE"
      },
      "source": [
        "<table class=\"tfo-notebook-buttons\" align=\"left\">\n",
        "  <td>\n",
        "    <a target=\"_blank\" href=\"https://colab.research.google.com/drive/1Ga0X5AwxcpYIH55vgMxBawa9_tjW7KIL#scrollTo=CNbqmZy0gbyE\">\n",
        "    <img src=\"https://www.tensorflow.org/images/colab_logo_32px.png\" />\n",
        "    Run in Google Colab</a>\n",
        "  </td>\n",
        "</table>"
      ]
    },
    {
      "cell_type": "markdown",
      "metadata": {
        "id": "SPfDNFlb66XF"
      },
      "source": [
        "This tutorial demonstrates how to preprocess audio files in the WAV format and build and train a basic [automatic speech recognition](https://en.wikipedia.org/wiki/Speech_recognition) (ASR) model for recognizing ten different words. You will use a portion of the [Speech Commands dataset](https://www.tensorflow.org/datasets/catalog/speech_commands) ([Warden, 2018](https://arxiv.org/abs/1804.03209)), which contains short (one-second or less) audio clips of commands, such as \"down\", \"go\", \"left\", \"no\", \"right\", \"stop\", \"up\" and \"yes\"."
      ]
    },
    {
      "cell_type": "markdown",
      "metadata": {
        "id": "Go9C3uLL8Izc"
      },
      "source": [
        "## Setup\n",
        "\n",
        "Download and install necessary dependencies"
      ]
    },
    {
      "cell_type": "code",
      "source": [
        "!pip install tensorflow==2.10 tensorflow_datasets\n",
        "!apt install --allow-change-held-packages libcudnn8=8.1.0.77-1+cuda11.2"
      ],
      "metadata": {
        "id": "2tuvqtpIzKXK",
        "outputId": "b20cc298-ecba-4b17-adb1-f6ef4c5b26ca",
        "colab": {
          "base_uri": "https://localhost:8080/",
          "height": 1000
        }
      },
      "execution_count": 1,
      "outputs": [
        {
          "output_type": "stream",
          "name": "stdout",
          "text": [
            "Looking in indexes: https://pypi.org/simple, https://us-python.pkg.dev/colab-wheels/public/simple/\n",
            "Collecting tensorflow==2.10\n",
            "  Downloading tensorflow-2.10.0-cp310-cp310-manylinux_2_17_x86_64.manylinux2014_x86_64.whl (578.0 MB)\n",
            "\u001b[2K     \u001b[90m━━━━━━━━━━━━━━━━━━━━━━━━━━━━━━━━━━━━━━━\u001b[0m \u001b[32m578.0/578.0 MB\u001b[0m \u001b[31m2.3 MB/s\u001b[0m eta \u001b[36m0:00:00\u001b[0m\n",
            "\u001b[?25hRequirement already satisfied: tensorflow_datasets in /usr/local/lib/python3.10/dist-packages (4.9.2)\n",
            "Requirement already satisfied: absl-py>=1.0.0 in /usr/local/lib/python3.10/dist-packages (from tensorflow==2.10) (1.4.0)\n",
            "Requirement already satisfied: astunparse>=1.6.0 in /usr/local/lib/python3.10/dist-packages (from tensorflow==2.10) (1.6.3)\n",
            "Requirement already satisfied: flatbuffers>=2.0 in /usr/local/lib/python3.10/dist-packages (from tensorflow==2.10) (23.3.3)\n",
            "Requirement already satisfied: gast<=0.4.0,>=0.2.1 in /usr/local/lib/python3.10/dist-packages (from tensorflow==2.10) (0.4.0)\n",
            "Requirement already satisfied: google-pasta>=0.1.1 in /usr/local/lib/python3.10/dist-packages (from tensorflow==2.10) (0.2.0)\n",
            "Requirement already satisfied: grpcio<2.0,>=1.24.3 in /usr/local/lib/python3.10/dist-packages (from tensorflow==2.10) (1.54.0)\n",
            "Requirement already satisfied: h5py>=2.9.0 in /usr/local/lib/python3.10/dist-packages (from tensorflow==2.10) (3.8.0)\n",
            "Collecting keras<2.11,>=2.10.0 (from tensorflow==2.10)\n",
            "  Downloading keras-2.10.0-py2.py3-none-any.whl (1.7 MB)\n",
            "\u001b[2K     \u001b[90m━━━━━━━━━━━━━━━━━━━━━━━━━━━━━━━━━━━━━━━━\u001b[0m \u001b[32m1.7/1.7 MB\u001b[0m \u001b[31m98.7 MB/s\u001b[0m eta \u001b[36m0:00:00\u001b[0m\n",
            "\u001b[?25hCollecting keras-preprocessing>=1.1.1 (from tensorflow==2.10)\n",
            "  Downloading Keras_Preprocessing-1.1.2-py2.py3-none-any.whl (42 kB)\n",
            "\u001b[2K     \u001b[90m━━━━━━━━━━━━━━━━━━━━━━━━━━━━━━━━━━━━━━━━\u001b[0m \u001b[32m42.6/42.6 kB\u001b[0m \u001b[31m5.9 MB/s\u001b[0m eta \u001b[36m0:00:00\u001b[0m\n",
            "\u001b[?25hRequirement already satisfied: libclang>=13.0.0 in /usr/local/lib/python3.10/dist-packages (from tensorflow==2.10) (16.0.0)\n",
            "Requirement already satisfied: numpy>=1.20 in /usr/local/lib/python3.10/dist-packages (from tensorflow==2.10) (1.22.4)\n",
            "Requirement already satisfied: opt-einsum>=2.3.2 in /usr/local/lib/python3.10/dist-packages (from tensorflow==2.10) (3.3.0)\n",
            "Requirement already satisfied: packaging in /usr/local/lib/python3.10/dist-packages (from tensorflow==2.10) (23.1)\n",
            "Collecting protobuf<3.20,>=3.9.2 (from tensorflow==2.10)\n",
            "  Downloading protobuf-3.19.6-cp310-cp310-manylinux_2_17_x86_64.manylinux2014_x86_64.whl (1.1 MB)\n",
            "\u001b[2K     \u001b[90m━━━━━━━━━━━━━━━━━━━━━━━━━━━━━━━━━━━━━━━━\u001b[0m \u001b[32m1.1/1.1 MB\u001b[0m \u001b[31m85.5 MB/s\u001b[0m eta \u001b[36m0:00:00\u001b[0m\n",
            "\u001b[?25hRequirement already satisfied: setuptools in /usr/local/lib/python3.10/dist-packages (from tensorflow==2.10) (67.7.2)\n",
            "Requirement already satisfied: six>=1.12.0 in /usr/local/lib/python3.10/dist-packages (from tensorflow==2.10) (1.16.0)\n",
            "Collecting tensorboard<2.11,>=2.10 (from tensorflow==2.10)\n",
            "  Downloading tensorboard-2.10.1-py3-none-any.whl (5.9 MB)\n",
            "\u001b[2K     \u001b[90m━━━━━━━━━━━━━━━━━━━━━━━━━━━━━━━━━━━━━━━━\u001b[0m \u001b[32m5.9/5.9 MB\u001b[0m \u001b[31m116.4 MB/s\u001b[0m eta \u001b[36m0:00:00\u001b[0m\n",
            "\u001b[?25hRequirement already satisfied: tensorflow-io-gcs-filesystem>=0.23.1 in /usr/local/lib/python3.10/dist-packages (from tensorflow==2.10) (0.32.0)\n",
            "Collecting tensorflow-estimator<2.11,>=2.10.0 (from tensorflow==2.10)\n",
            "  Downloading tensorflow_estimator-2.10.0-py2.py3-none-any.whl (438 kB)\n",
            "\u001b[2K     \u001b[90m━━━━━━━━━━━━━━━━━━━━━━━━━━━━━━━━━━━━━━\u001b[0m \u001b[32m438.7/438.7 kB\u001b[0m \u001b[31m51.0 MB/s\u001b[0m eta \u001b[36m0:00:00\u001b[0m\n",
            "\u001b[?25hRequirement already satisfied: termcolor>=1.1.0 in /usr/local/lib/python3.10/dist-packages (from tensorflow==2.10) (2.3.0)\n",
            "Requirement already satisfied: typing-extensions>=3.6.6 in /usr/local/lib/python3.10/dist-packages (from tensorflow==2.10) (4.5.0)\n",
            "Requirement already satisfied: wrapt>=1.11.0 in /usr/local/lib/python3.10/dist-packages (from tensorflow==2.10) (1.14.1)\n",
            "Requirement already satisfied: array-record in /usr/local/lib/python3.10/dist-packages (from tensorflow_datasets) (0.2.0)\n",
            "Requirement already satisfied: click in /usr/local/lib/python3.10/dist-packages (from tensorflow_datasets) (8.1.3)\n",
            "Requirement already satisfied: dm-tree in /usr/local/lib/python3.10/dist-packages (from tensorflow_datasets) (0.1.8)\n",
            "Requirement already satisfied: etils[enp,epath]>=0.9.0 in /usr/local/lib/python3.10/dist-packages (from tensorflow_datasets) (1.2.0)\n",
            "Requirement already satisfied: promise in /usr/local/lib/python3.10/dist-packages (from tensorflow_datasets) (2.3)\n",
            "INFO: pip is looking at multiple versions of tensorflow-datasets to determine which version is compatible with other requirements. This could take a while.\n",
            "Collecting tensorflow_datasets\n",
            "  Downloading tensorflow_datasets-4.9.1-py3-none-any.whl (5.4 MB)\n",
            "\u001b[2K     \u001b[90m━━━━━━━━━━━━━━━━━━━━━━━━━━━━━━━━━━━━━━━━\u001b[0m \u001b[32m5.4/5.4 MB\u001b[0m \u001b[31m89.9 MB/s\u001b[0m eta \u001b[36m0:00:00\u001b[0m\n",
            "\u001b[?25h  Downloading tensorflow_datasets-4.9.0-py3-none-any.whl (5.4 MB)\n",
            "\u001b[2K     \u001b[90m━━━━━━━━━━━━━━━━━━━━━━━━━━━━━━━━━━━━━━━━\u001b[0m \u001b[32m5.4/5.4 MB\u001b[0m \u001b[31m107.9 MB/s\u001b[0m eta \u001b[36m0:00:00\u001b[0m\n",
            "\u001b[?25hRequirement already satisfied: psutil in /usr/local/lib/python3.10/dist-packages (from tensorflow_datasets) (5.9.5)\n",
            "Requirement already satisfied: requests>=2.19.0 in /usr/local/lib/python3.10/dist-packages (from tensorflow_datasets) (2.27.1)\n",
            "Requirement already satisfied: tensorflow-metadata in /usr/local/lib/python3.10/dist-packages (from tensorflow_datasets) (1.13.1)\n",
            "Requirement already satisfied: toml in /usr/local/lib/python3.10/dist-packages (from tensorflow_datasets) (0.10.2)\n",
            "Requirement already satisfied: tqdm in /usr/local/lib/python3.10/dist-packages (from tensorflow_datasets) (4.65.0)\n",
            "Requirement already satisfied: wheel<1.0,>=0.23.0 in /usr/local/lib/python3.10/dist-packages (from astunparse>=1.6.0->tensorflow==2.10) (0.40.0)\n",
            "Requirement already satisfied: importlib_resources in /usr/local/lib/python3.10/dist-packages (from etils[enp,epath]>=0.9.0->tensorflow_datasets) (5.12.0)\n",
            "Requirement already satisfied: zipp in /usr/local/lib/python3.10/dist-packages (from etils[enp,epath]>=0.9.0->tensorflow_datasets) (3.15.0)\n",
            "Requirement already satisfied: urllib3<1.27,>=1.21.1 in /usr/local/lib/python3.10/dist-packages (from requests>=2.19.0->tensorflow_datasets) (1.26.15)\n",
            "Requirement already satisfied: certifi>=2017.4.17 in /usr/local/lib/python3.10/dist-packages (from requests>=2.19.0->tensorflow_datasets) (2022.12.7)\n",
            "Requirement already satisfied: charset-normalizer~=2.0.0 in /usr/local/lib/python3.10/dist-packages (from requests>=2.19.0->tensorflow_datasets) (2.0.12)\n",
            "Requirement already satisfied: idna<4,>=2.5 in /usr/local/lib/python3.10/dist-packages (from requests>=2.19.0->tensorflow_datasets) (3.4)\n",
            "Requirement already satisfied: google-auth<3,>=1.6.3 in /usr/local/lib/python3.10/dist-packages (from tensorboard<2.11,>=2.10->tensorflow==2.10) (2.17.3)\n",
            "Collecting google-auth-oauthlib<0.5,>=0.4.1 (from tensorboard<2.11,>=2.10->tensorflow==2.10)\n",
            "  Downloading google_auth_oauthlib-0.4.6-py2.py3-none-any.whl (18 kB)\n",
            "Requirement already satisfied: markdown>=2.6.8 in /usr/local/lib/python3.10/dist-packages (from tensorboard<2.11,>=2.10->tensorflow==2.10) (3.4.3)\n",
            "Collecting tensorboard-data-server<0.7.0,>=0.6.0 (from tensorboard<2.11,>=2.10->tensorflow==2.10)\n",
            "  Downloading tensorboard_data_server-0.6.1-py3-none-manylinux2010_x86_64.whl (4.9 MB)\n",
            "\u001b[2K     \u001b[90m━━━━━━━━━━━━━━━━━━━━━━━━━━━━━━━━━━━━━━━━\u001b[0m \u001b[32m4.9/4.9 MB\u001b[0m \u001b[31m118.0 MB/s\u001b[0m eta \u001b[36m0:00:00\u001b[0m\n",
            "\u001b[?25hRequirement already satisfied: tensorboard-plugin-wit>=1.6.0 in /usr/local/lib/python3.10/dist-packages (from tensorboard<2.11,>=2.10->tensorflow==2.10) (1.8.1)\n",
            "Requirement already satisfied: werkzeug>=1.0.1 in /usr/local/lib/python3.10/dist-packages (from tensorboard<2.11,>=2.10->tensorflow==2.10) (2.3.0)\n",
            "Requirement already satisfied: googleapis-common-protos<2,>=1.52.0 in /usr/local/lib/python3.10/dist-packages (from tensorflow-metadata->tensorflow_datasets) (1.59.0)\n",
            "INFO: pip is looking at multiple versions of tensorflow-metadata to determine which version is compatible with other requirements. This could take a while.\n",
            "Collecting tensorflow-metadata (from tensorflow_datasets)\n",
            "  Downloading tensorflow_metadata-1.13.0-py3-none-any.whl (53 kB)\n",
            "\u001b[2K     \u001b[90m━━━━━━━━━━━━━━━━━━━━━━━━━━━━━━━━━━━━━━━━\u001b[0m \u001b[32m53.3/53.3 kB\u001b[0m \u001b[31m5.3 MB/s\u001b[0m eta \u001b[36m0:00:00\u001b[0m\n",
            "\u001b[?25hRequirement already satisfied: cachetools<6.0,>=2.0.0 in /usr/local/lib/python3.10/dist-packages (from google-auth<3,>=1.6.3->tensorboard<2.11,>=2.10->tensorflow==2.10) (5.3.0)\n",
            "Requirement already satisfied: pyasn1-modules>=0.2.1 in /usr/local/lib/python3.10/dist-packages (from google-auth<3,>=1.6.3->tensorboard<2.11,>=2.10->tensorflow==2.10) (0.3.0)\n",
            "Requirement already satisfied: rsa<5,>=3.1.4 in /usr/local/lib/python3.10/dist-packages (from google-auth<3,>=1.6.3->tensorboard<2.11,>=2.10->tensorflow==2.10) (4.9)\n",
            "Requirement already satisfied: requests-oauthlib>=0.7.0 in /usr/local/lib/python3.10/dist-packages (from google-auth-oauthlib<0.5,>=0.4.1->tensorboard<2.11,>=2.10->tensorflow==2.10) (1.3.1)\n",
            "Requirement already satisfied: MarkupSafe>=2.1.1 in /usr/local/lib/python3.10/dist-packages (from werkzeug>=1.0.1->tensorboard<2.11,>=2.10->tensorflow==2.10) (2.1.2)\n",
            "Requirement already satisfied: pyasn1<0.6.0,>=0.4.6 in /usr/local/lib/python3.10/dist-packages (from pyasn1-modules>=0.2.1->google-auth<3,>=1.6.3->tensorboard<2.11,>=2.10->tensorflow==2.10) (0.5.0)\n",
            "Requirement already satisfied: oauthlib>=3.0.0 in /usr/local/lib/python3.10/dist-packages (from requests-oauthlib>=0.7.0->google-auth-oauthlib<0.5,>=0.4.1->tensorboard<2.11,>=2.10->tensorflow==2.10) (3.2.2)\n",
            "Installing collected packages: keras, tensorflow-estimator, tensorboard-data-server, protobuf, keras-preprocessing, tensorflow-metadata, google-auth-oauthlib, tensorflow_datasets, tensorboard, tensorflow\n",
            "  Attempting uninstall: keras\n",
            "    Found existing installation: keras 2.12.0\n",
            "    Uninstalling keras-2.12.0:\n",
            "      Successfully uninstalled keras-2.12.0\n",
            "  Attempting uninstall: tensorflow-estimator\n",
            "    Found existing installation: tensorflow-estimator 2.12.0\n",
            "    Uninstalling tensorflow-estimator-2.12.0:\n",
            "      Successfully uninstalled tensorflow-estimator-2.12.0\n",
            "  Attempting uninstall: tensorboard-data-server\n",
            "    Found existing installation: tensorboard-data-server 0.7.0\n",
            "    Uninstalling tensorboard-data-server-0.7.0:\n",
            "      Successfully uninstalled tensorboard-data-server-0.7.0\n",
            "  Attempting uninstall: protobuf\n",
            "    Found existing installation: protobuf 3.20.3\n",
            "    Uninstalling protobuf-3.20.3:\n",
            "      Successfully uninstalled protobuf-3.20.3\n",
            "  Attempting uninstall: tensorflow-metadata\n",
            "    Found existing installation: tensorflow-metadata 1.13.1\n",
            "    Uninstalling tensorflow-metadata-1.13.1:\n",
            "      Successfully uninstalled tensorflow-metadata-1.13.1\n",
            "  Attempting uninstall: google-auth-oauthlib\n",
            "    Found existing installation: google-auth-oauthlib 1.0.0\n",
            "    Uninstalling google-auth-oauthlib-1.0.0:\n",
            "      Successfully uninstalled google-auth-oauthlib-1.0.0\n",
            "  Attempting uninstall: tensorflow_datasets\n",
            "    Found existing installation: tensorflow-datasets 4.9.2\n",
            "    Uninstalling tensorflow-datasets-4.9.2:\n",
            "      Successfully uninstalled tensorflow-datasets-4.9.2\n",
            "  Attempting uninstall: tensorboard\n",
            "    Found existing installation: tensorboard 2.12.2\n",
            "    Uninstalling tensorboard-2.12.2:\n",
            "      Successfully uninstalled tensorboard-2.12.2\n",
            "  Attempting uninstall: tensorflow\n",
            "    Found existing installation: tensorflow 2.12.0\n",
            "    Uninstalling tensorflow-2.12.0:\n",
            "      Successfully uninstalled tensorflow-2.12.0\n",
            "Successfully installed google-auth-oauthlib-0.4.6 keras-2.10.0 keras-preprocessing-1.1.2 protobuf-3.19.6 tensorboard-2.10.1 tensorboard-data-server-0.6.1 tensorflow-2.10.0 tensorflow-estimator-2.10.0 tensorflow-metadata-1.13.0 tensorflow_datasets-4.9.0\n"
          ]
        },
        {
          "output_type": "display_data",
          "data": {
            "application/vnd.colab-display-data+json": {
              "pip_warning": {
                "packages": [
                  "google"
                ]
              }
            }
          },
          "metadata": {}
        },
        {
          "output_type": "stream",
          "name": "stdout",
          "text": [
            "Reading package lists... Done\n",
            "Building dependency tree       \n",
            "Reading state information... Done\n",
            "The following packages will be REMOVED:\n",
            "  libcudnn8-dev\n",
            "The following held packages will be changed:\n",
            "  libcudnn8\n",
            "The following packages will be DOWNGRADED:\n",
            "  libcudnn8\n",
            "0 upgraded, 0 newly installed, 1 downgraded, 1 to remove and 32 not upgraded.\n",
            "Need to get 430 MB of archives.\n",
            "After this operation, 1,153 MB disk space will be freed.\n",
            "Get:1 https://developer.download.nvidia.com/compute/cuda/repos/ubuntu2004/x86_64  libcudnn8 8.1.0.77-1+cuda11.2 [430 MB]\n",
            "51% [1 libcudnn8 273 MB/430 MB 64%]\u001b[0m^C\n"
          ]
        }
      ]
    },
    {
      "cell_type": "code",
      "execution_count": 1,
      "metadata": {
        "id": "dzLKpmZICaWN"
      },
      "outputs": [],
      "source": [
        "import os\n",
        "import pathlib\n",
        "\n",
        "import matplotlib.pyplot as plt\n",
        "import numpy as np\n",
        "import seaborn as sns\n",
        "import tensorflow as tf\n",
        "\n",
        "from tensorflow.keras import layers\n",
        "from tensorflow.keras import models\n",
        "from IPython import display\n",
        "\n",
        "# Set the seed value for experiment reproducibility.\n",
        "seed = 42\n",
        "tf.random.set_seed(seed)\n",
        "np.random.seed(seed)"
      ]
    },
    {
      "cell_type": "markdown",
      "metadata": {
        "id": "yR0EdgrLCaWR"
      },
      "source": [
        "## Import the mini Speech Commands dataset\n",
        "\n",
        "To save time with data loading, you will be working with a smaller version of the Speech Commands dataset.\n",
        "Download and extract the `mini_speech_commands.zip` file containing the smaller Speech Commands datasets with `tf.keras.utils.get_file`:"
      ]
    },
    {
      "cell_type": "code",
      "execution_count": 2,
      "metadata": {
        "id": "2-rayb7-3Y0I",
        "outputId": "aa8a2a6d-dbee-44c3-89fe-03a72e8a942f",
        "colab": {
          "base_uri": "https://localhost:8080/"
        }
      },
      "outputs": [
        {
          "output_type": "stream",
          "name": "stdout",
          "text": [
            "Downloading data from http://storage.googleapis.com/download.tensorflow.org/data/mini_speech_commands.zip\n",
            "182082353/182082353 [==============================] - 1s 0us/step\n"
          ]
        }
      ],
      "source": [
        "DATASET_PATH = 'data/mini_speech_commands'\n",
        "\n",
        "data_dir = pathlib.Path(DATASET_PATH)\n",
        "if not data_dir.exists():\n",
        "  tf.keras.utils.get_file(\n",
        "      'mini_speech_commands.zip',\n",
        "      origin=\"http://storage.googleapis.com/download.tensorflow.org/data/mini_speech_commands.zip\",\n",
        "      extract=True,\n",
        "      cache_dir='.', cache_subdir='data')"
      ]
    },
    {
      "cell_type": "markdown",
      "metadata": {
        "id": "BgvFq3uYiS5G"
      },
      "source": [
        "The dataset's audio clips are stored in eight folders corresponding to each speech command: `no`, `yes`, `down`, `go`, `left`, `up`, `right`, and `stop`:"
      ]
    },
    {
      "cell_type": "code",
      "execution_count": 3,
      "metadata": {
        "id": "70IBxSKxA1N9",
        "outputId": "95091b61-129c-4ab4-9949-cedf397ea7f5",
        "colab": {
          "base_uri": "https://localhost:8080/"
        }
      },
      "outputs": [
        {
          "output_type": "stream",
          "name": "stdout",
          "text": [
            "Commands: ['stop' 'right' 'go' 'up' 'no' 'yes' 'down' 'left']\n"
          ]
        }
      ],
      "source": [
        "commands = np.array(tf.io.gfile.listdir(str(data_dir)))\n",
        "commands = commands[(commands != 'README.md') & (commands != '.DS_Store')]\n",
        "print('Commands:', commands)"
      ]
    },
    {
      "cell_type": "markdown",
      "metadata": {
        "id": "TZ7GJjDvHqtt"
      },
      "source": [
        "Now we split the data into train and test datasets.\n",
        "\n",
        "The audio clips are 1 second or less at 16kHz."
      ]
    },
    {
      "cell_type": "code",
      "execution_count": 4,
      "metadata": {
        "id": "mFM4c3aMC8Qv",
        "outputId": "c104a2a3-e246-4d49-b5be-d0b424472c08",
        "colab": {
          "base_uri": "https://localhost:8080/"
        }
      },
      "outputs": [
        {
          "output_type": "stream",
          "name": "stdout",
          "text": [
            "Found 8000 files belonging to 8 classes.\n",
            "Using 6400 files for training.\n",
            "Using 1600 files for validation.\n",
            "\n",
            "label names: ['down' 'go' 'left' 'no' 'right' 'stop' 'up' 'yes']\n"
          ]
        }
      ],
      "source": [
        "train_ds, val_ds = tf.keras.utils.audio_dataset_from_directory(\n",
        "    directory=data_dir,\n",
        "    batch_size=64,\n",
        "    validation_split=0.2,\n",
        "    seed=0,\n",
        "    output_sequence_length=16000,\n",
        "    subset='both')\n",
        "\n",
        "label_names = np.array(train_ds.class_names)\n",
        "print()\n",
        "print(\"label names:\", label_names)"
      ]
    },
    {
      "cell_type": "code",
      "execution_count": 5,
      "metadata": {
        "id": "Xl-tnniUIBlM"
      },
      "outputs": [],
      "source": [
        "def squeeze(audio, labels):\n",
        "  audio = tf.squeeze(audio, axis=-1)\n",
        "  return audio, labels\n",
        "\n",
        "train_ds = train_ds.map(squeeze, tf.data.AUTOTUNE)\n",
        "val_ds = val_ds.map(squeeze, tf.data.AUTOTUNE)"
      ]
    },
    {
      "cell_type": "markdown",
      "metadata": {
        "id": "DtsCSWZN5ILv"
      },
      "source": [
        "We have to split our calidation dataset into val and test set."
      ]
    },
    {
      "cell_type": "code",
      "execution_count": 6,
      "metadata": {
        "id": "u5UEGsqM5Gss"
      },
      "outputs": [],
      "source": [
        "test_ds = val_ds.shard(num_shards=2, index=0)\n",
        "val_ds = val_ds.shard(num_shards=2, index=1)"
      ]
    },
    {
      "cell_type": "code",
      "execution_count": 7,
      "metadata": {
        "id": "xIeoJcwJH5h9",
        "outputId": "35110e04-d2f0-4fb0-f2e6-0aa5417a65dd",
        "colab": {
          "base_uri": "https://localhost:8080/"
        }
      },
      "outputs": [
        {
          "output_type": "stream",
          "name": "stdout",
          "text": [
            "(64, 16000)\n",
            "(64,)\n"
          ]
        }
      ],
      "source": [
        "for example_audio, example_labels in train_ds.take(1):  \n",
        "  print(example_audio.shape)\n",
        "  print(example_labels.shape)"
      ]
    },
    {
      "cell_type": "markdown",
      "metadata": {
        "id": "voxGEwvuh2L7"
      },
      "source": [
        "Let's plot a few audio waveforms:"
      ]
    },
    {
      "cell_type": "markdown",
      "metadata": {
        "id": "EWXPphxm0B4m"
      },
      "source": [
        "## Convert waveforms to spectrograms\n",
        "\n",
        "The waveforms in the dataset are represented in the time domain. Next, you'll transform the waveforms from the time-domain signals into the time-frequency-domain signals by computing the [short-time Fourier transform (STFT)](https://en.wikipedia.org/wiki/Short-time_Fourier_transform) to convert the waveforms to as [spectrograms](https://en.wikipedia.org/wiki/Spectrogram), which show frequency changes over time and can be represented as 2D images."
      ]
    },
    {
      "cell_type": "code",
      "execution_count": 8,
      "metadata": {
        "id": "_4CK75DHz_OR"
      },
      "outputs": [],
      "source": [
        "def get_spectrogram(waveform):\n",
        "  # Convert the waveform to a spectrogram via a STFT.\n",
        "  spectrogram = tf.signal.stft(\n",
        "      waveform, frame_length=255, frame_step=128)\n",
        "  # Obtain the magnitude of the STFT.\n",
        "  spectrogram = tf.abs(spectrogram)\n",
        "  # Add a `channels` dimension, so that the spectrogram can be used\n",
        "  # as image-like input data with convolution layers (which expect\n",
        "  # shape (`batch_size`, `height`, `width`, `channels`).\n",
        "  spectrogram = spectrogram[..., tf.newaxis]\n",
        "  return spectrogram"
      ]
    },
    {
      "cell_type": "markdown",
      "metadata": {
        "id": "xnSuqyxJ1isF"
      },
      "source": [
        "Now, define a function for displaying a spectrogram:"
      ]
    },
    {
      "cell_type": "code",
      "execution_count": null,
      "metadata": {
        "id": "e62jzb36-Jog"
      },
      "outputs": [],
      "source": [
        "#def plot_spectrogram(spectrogram, ax):\n",
        "#  if len(spectrogram.shape) > 2:\n",
        "#    assert len(spectrogram.shape) == 3\n",
        "#    spectrogram = np.squeeze(spectrogram, axis=-1)\n",
        "#  # Convert the frequencies to log scale and transpose, so that the time is\n",
        "#  # represented on the x-axis (columns).\n",
        "#  # Add an epsilon to avoid taking a log of zero.\n",
        "#  log_spec = np.log(spectrogram.T + np.finfo(float).eps)\n",
        "#  height = log_spec.shape[0]\n",
        "#  width = log_spec.shape[1]\n",
        "#  X = np.linspace(0, np.size(spectrogram), num=width, dtype=int)\n",
        "#  Y = range(height)\n",
        "#  ax.pcolormesh(X, Y, log_spec)"
      ]
    },
    {
      "cell_type": "markdown",
      "metadata": {
        "id": "GyYXjW07jCHA"
      },
      "source": [
        "Now, create spectrogramn datasets from the audio datasets:"
      ]
    },
    {
      "cell_type": "code",
      "execution_count": 9,
      "metadata": {
        "id": "mAD0LpkgqtQo"
      },
      "outputs": [],
      "source": [
        "def make_spec_ds(ds):\n",
        "  return ds.map(\n",
        "      map_func=lambda audio,label: (get_spectrogram(audio), label),\n",
        "      num_parallel_calls=tf.data.AUTOTUNE)"
      ]
    },
    {
      "cell_type": "code",
      "execution_count": 10,
      "metadata": {
        "id": "yEVb_oK0oBLQ"
      },
      "outputs": [],
      "source": [
        "train_spectrogram_ds = make_spec_ds(train_ds)\n",
        "val_spectrogram_ds = make_spec_ds(val_ds)\n",
        "test_spectrogram_ds = make_spec_ds(test_ds)"
      ]
    },
    {
      "cell_type": "code",
      "source": [
        "for example_spectrograms, example_spect_labels in train_spectrogram_ds.take(1):\n",
        "  break"
      ],
      "metadata": {
        "id": "Pp8S55hQuGgH"
      },
      "execution_count": 11,
      "outputs": []
    },
    {
      "cell_type": "markdown",
      "metadata": {
        "id": "z5KdY8IF8rkt"
      },
      "source": [
        "## Build and train the model"
      ]
    },
    {
      "cell_type": "code",
      "execution_count": 12,
      "metadata": {
        "id": "fdZ6M-F5_QzY"
      },
      "outputs": [],
      "source": [
        "train_spectrogram_ds = train_spectrogram_ds.cache().shuffle(10000).prefetch(tf.data.AUTOTUNE)\n",
        "val_spectrogram_ds = val_spectrogram_ds.cache().prefetch(tf.data.AUTOTUNE)\n",
        "test_spectrogram_ds = test_spectrogram_ds.cache().prefetch(tf.data.AUTOTUNE)"
      ]
    },
    {
      "cell_type": "markdown",
      "metadata": {
        "id": "rwHkKCQQb5oW"
      },
      "source": [
        "For the model, you'll use a simple convolutional neural network (CNN), since you have transformed the audio files into spectrogram images.\n",
        "\n",
        "Your `tf.keras.Sequential` model will use the following Keras preprocessing layers:\n",
        "\n",
        "- `tf.keras.layers.Resizing`: to downsample the input to enable the model to train faster.\n",
        "- `tf.keras.layers.Normalization`: to normalize each pixel in the image based on its mean and standard deviation."
      ]
    },
    {
      "cell_type": "code",
      "execution_count": 13,
      "metadata": {
        "id": "ALYz7PFCHblP",
        "outputId": "a8d845d0-815b-46db-9285-9016ecf1efee",
        "colab": {
          "base_uri": "https://localhost:8080/"
        }
      },
      "outputs": [
        {
          "output_type": "stream",
          "name": "stdout",
          "text": [
            "Input shape: (124, 129, 1)\n",
            "Model: \"sequential\"\n",
            "_________________________________________________________________\n",
            " Layer (type)                Output Shape              Param #   \n",
            "=================================================================\n",
            " resizing (Resizing)         (None, 32, 32, 1)         0         \n",
            "                                                                 \n",
            " normalization (Normalizatio  (None, 32, 32, 1)        3         \n",
            " n)                                                              \n",
            "                                                                 \n",
            " conv2d (Conv2D)             (None, 30, 30, 32)        320       \n",
            "                                                                 \n",
            " conv2d_1 (Conv2D)           (None, 28, 28, 64)        18496     \n",
            "                                                                 \n",
            " max_pooling2d (MaxPooling2D  (None, 14, 14, 64)       0         \n",
            " )                                                               \n",
            "                                                                 \n",
            " dropout (Dropout)           (None, 14, 14, 64)        0         \n",
            "                                                                 \n",
            " flatten (Flatten)           (None, 12544)             0         \n",
            "                                                                 \n",
            " dense (Dense)               (None, 128)               1605760   \n",
            "                                                                 \n",
            " dropout_1 (Dropout)         (None, 128)               0         \n",
            "                                                                 \n",
            " dense_1 (Dense)             (None, 8)                 1032      \n",
            "                                                                 \n",
            "=================================================================\n",
            "Total params: 1,625,611\n",
            "Trainable params: 1,625,608\n",
            "Non-trainable params: 3\n",
            "_________________________________________________________________\n"
          ]
        }
      ],
      "source": [
        "input_shape = example_spectrograms.shape[1:]\n",
        "print('Input shape:', input_shape)\n",
        "num_labels = len(label_names)\n",
        "\n",
        "# Instantiate the `tf.keras.layers.Normalization` layer.\n",
        "norm_layer = layers.Normalization()\n",
        "# Fit the state of the layer to the spectrograms\n",
        "# with `Normalization.adapt`.\n",
        "norm_layer.adapt(data=train_spectrogram_ds.map(map_func=lambda spec, label: spec))\n",
        "\n",
        "model = models.Sequential([\n",
        "    tf.keras.layers.Input(shape=input_shape),\n",
        "    # Downsample the input.\n",
        "    tf.keras.layers.Resizing(32, 32),\n",
        "    # Normalize.\n",
        "    norm_layer,\n",
        "    tf.keras.layers.Conv2D(32, 3, activation='relu'),\n",
        "    tf.keras.layers.Conv2D(64, 3, activation='relu'),\n",
        "    tf.keras.layers.MaxPooling2D(),\n",
        "    tf.keras.layers.Dropout(0.25),\n",
        "    tf.keras.layers.Flatten(),\n",
        "    tf.keras.layers.Dense(128, activation='relu'),\n",
        "    tf.keras.layers.Dropout(0.5),\n",
        "    tf.keras.layers.Dense(num_labels),\n",
        "])\n",
        "\n",
        "model.summary()"
      ]
    },
    {
      "cell_type": "markdown",
      "metadata": {
        "id": "de52e5afa2f3"
      },
      "source": [
        "Configure the Keras model with the Adam optimizer and the cross-entropy loss:"
      ]
    },
    {
      "cell_type": "code",
      "execution_count": 14,
      "metadata": {
        "id": "wFjj7-EmsTD-"
      },
      "outputs": [],
      "source": [
        "model.compile(\n",
        "    optimizer=tf.keras.optimizers.Adam(),\n",
        "    loss=tf.keras.losses.SparseCategoricalCrossentropy(from_logits=True),\n",
        "    metrics=['accuracy'],\n",
        ")"
      ]
    },
    {
      "cell_type": "markdown",
      "metadata": {
        "id": "f42b9e3a4705"
      },
      "source": [
        "Train the model over 10 epochs for demonstration purposes:"
      ]
    },
    {
      "cell_type": "code",
      "execution_count": 15,
      "metadata": {
        "id": "ttioPJVMcGtq",
        "outputId": "fd6533e4-7ed4-4c63-8bb5-c11313fb0b5e",
        "colab": {
          "base_uri": "https://localhost:8080/"
        }
      },
      "outputs": [
        {
          "output_type": "stream",
          "name": "stdout",
          "text": [
            "Epoch 1/10\n",
            "100/100 [==============================] - 11s 23ms/step - loss: 1.7212 - accuracy: 0.3780 - val_loss: 1.2574 - val_accuracy: 0.6276\n",
            "Epoch 2/10\n",
            "100/100 [==============================] - 1s 7ms/step - loss: 1.1320 - accuracy: 0.5989 - val_loss: 0.8956 - val_accuracy: 0.7174\n",
            "Epoch 3/10\n",
            "100/100 [==============================] - 1s 8ms/step - loss: 0.8757 - accuracy: 0.6941 - val_loss: 0.7470 - val_accuracy: 0.7604\n",
            "Epoch 4/10\n",
            "100/100 [==============================] - 1s 8ms/step - loss: 0.7091 - accuracy: 0.7441 - val_loss: 0.6712 - val_accuracy: 0.7943\n",
            "Epoch 5/10\n",
            "100/100 [==============================] - 1s 7ms/step - loss: 0.5991 - accuracy: 0.7861 - val_loss: 0.6050 - val_accuracy: 0.7930\n",
            "Epoch 6/10\n",
            "100/100 [==============================] - 1s 7ms/step - loss: 0.5126 - accuracy: 0.8172 - val_loss: 0.5468 - val_accuracy: 0.8229\n",
            "Epoch 7/10\n",
            "100/100 [==============================] - 1s 7ms/step - loss: 0.4698 - accuracy: 0.8317 - val_loss: 0.5224 - val_accuracy: 0.8242\n",
            "Epoch 8/10\n",
            "100/100 [==============================] - 1s 8ms/step - loss: 0.4188 - accuracy: 0.8553 - val_loss: 0.5056 - val_accuracy: 0.8268\n",
            "Epoch 9/10\n",
            "100/100 [==============================] - 1s 8ms/step - loss: 0.3916 - accuracy: 0.8634 - val_loss: 0.4854 - val_accuracy: 0.8307\n",
            "Epoch 10/10\n",
            "100/100 [==============================] - 1s 8ms/step - loss: 0.3374 - accuracy: 0.8814 - val_loss: 0.4586 - val_accuracy: 0.8451\n"
          ]
        }
      ],
      "source": [
        "EPOCHS = 10\n",
        "history = model.fit(\n",
        "    train_spectrogram_ds,\n",
        "    validation_data=val_spectrogram_ds,\n",
        "    epochs=EPOCHS,\n",
        "    callbacks=tf.keras.callbacks.EarlyStopping(verbose=1, patience=2),\n",
        ")"
      ]
    },
    {
      "cell_type": "markdown",
      "metadata": {
        "id": "gjpCDeQ4mUfS"
      },
      "source": [
        "Let's plot the training and validation loss curves to check how your model has improved during training:"
      ]
    },
    {
      "cell_type": "code",
      "execution_count": 16,
      "metadata": {
        "id": "nzhipg3Gu2AY",
        "outputId": "80c10627-0880-428e-c98c-3a484b9425de",
        "colab": {
          "base_uri": "https://localhost:8080/",
          "height": 564
        }
      },
      "outputs": [
        {
          "output_type": "execute_result",
          "data": {
            "text/plain": [
              "Text(0, 0.5, 'Accuracy [%]')"
            ]
          },
          "metadata": {},
          "execution_count": 16
        },
        {
          "output_type": "display_data",
          "data": {
            "text/plain": [
              "<Figure size 1600x600 with 2 Axes>"
            ],
            "image/png": "[encoded data removed]"
          },
          "metadata": {}
        }
      ],
      "source": [
        "metrics = history.history\n",
        "plt.figure(figsize=(16,6))\n",
        "plt.subplot(1,2,1)\n",
        "plt.plot(history.epoch, metrics['loss'], metrics['val_loss'])\n",
        "plt.legend(['loss', 'val_loss'])\n",
        "plt.ylim([0, max(plt.ylim())])\n",
        "plt.xlabel('Epoch')\n",
        "plt.ylabel('Loss [CrossEntropy]')\n",
        "\n",
        "plt.subplot(1,2,2)\n",
        "plt.plot(history.epoch, 100*np.array(metrics['accuracy']), 100*np.array(metrics['val_accuracy']))\n",
        "plt.legend(['accuracy', 'val_accuracy'])\n",
        "plt.ylim([0, 100])\n",
        "plt.xlabel('Epoch')\n",
        "plt.ylabel('Accuracy [%]')"
      ]
    },
    {
      "cell_type": "markdown",
      "metadata": {
        "id": "5ZTt3kO3mfm4"
      },
      "source": [
        "## Evaluate the model performance\n",
        "\n",
        "Run the model on the test set and check the model's performance:"
      ]
    },
    {
      "cell_type": "code",
      "execution_count": 17,
      "metadata": {
        "id": "FapuRT_SsWGQ",
        "outputId": "4c2e4e69-4b70-48b2-f654-063029b7c55f",
        "colab": {
          "base_uri": "https://localhost:8080/"
        }
      },
      "outputs": [
        {
          "output_type": "stream",
          "name": "stdout",
          "text": [
            "13/13 [==============================] - 1s 97ms/step - loss: 0.4538 - accuracy: 0.8510\n"
          ]
        },
        {
          "output_type": "execute_result",
          "data": {
            "text/plain": [
              "{'loss': 0.45377570390701294, 'accuracy': 0.8509615659713745}"
            ]
          },
          "metadata": {},
          "execution_count": 17
        }
      ],
      "source": [
        "model.evaluate(test_spectrogram_ds, return_dict=True)"
      ]
    },
    {
      "cell_type": "markdown",
      "metadata": {
        "id": "en9Znt1NOabH"
      },
      "source": [
        "### Display a confusion matrix\n",
        "\n",
        "Use a [confusion matrix](https://developers.google.com/machine-learning/glossary#confusion-matrix) to check how well the model did classifying each of the recordings in the test set:\n"
      ]
    },
    {
      "cell_type": "code",
      "execution_count": 18,
      "metadata": {
        "id": "5Y6vmWWQuuT1",
        "outputId": "b5e4a3ab-67dc-4d85-952a-2685f9a7bb1e",
        "colab": {
          "base_uri": "https://localhost:8080/"
        }
      },
      "outputs": [
        {
          "output_type": "stream",
          "name": "stdout",
          "text": [
            "13/13 [==============================] - 0s 4ms/step\n"
          ]
        }
      ],
      "source": [
        "y_pred = model.predict(test_spectrogram_ds)"
      ]
    },
    {
      "cell_type": "code",
      "execution_count": 19,
      "metadata": {
        "id": "d6F0il82u7lW"
      },
      "outputs": [],
      "source": [
        "y_pred = tf.argmax(y_pred, axis=1)"
      ]
    },
    {
      "cell_type": "code",
      "execution_count": 20,
      "metadata": {
        "id": "vHSNoBYLvX81"
      },
      "outputs": [],
      "source": [
        "y_true = tf.concat(list(test_spectrogram_ds.map(lambda s,lab: lab)), axis=0)"
      ]
    },
    {
      "cell_type": "code",
      "execution_count": 21,
      "metadata": {
        "id": "LvoSAOiXU3lL",
        "outputId": "009397b5-d208-4d9c-f0db-f22ed9289c9c",
        "colab": {
          "base_uri": "https://localhost:8080/",
          "height": 696
        }
      },
      "outputs": [
        {
          "output_type": "display_data",
          "data": {
            "text/plain": [
              "<Figure size 1000x800 with 2 Axes>"
            ],
            "image/png": "[encoded data removed]"
          },
          "metadata": {}
        }
      ],
      "source": [
        "confusion_mtx = tf.math.confusion_matrix(y_true, y_pred)\n",
        "plt.figure(figsize=(10, 8))\n",
        "sns.heatmap(confusion_mtx,\n",
        "            xticklabels=label_names,\n",
        "            yticklabels=label_names,\n",
        "            annot=True, fmt='g')\n",
        "plt.xlabel('Prediction')\n",
        "plt.ylabel('Label')\n",
        "plt.show()"
      ]
    },
    {
      "cell_type": "markdown",
      "metadata": {
        "id": "mQGi_mzPcLvl"
      },
      "source": [
        "## Check trained model for sample audio\n",
        "\n",
        "Finally, verify the model's prediction output using an input audio file. How well does your model perform?"
      ]
    },
    {
      "cell_type": "code",
      "source": [
        "#provide link to your sample file\n",
        "x = data_dir/'stop/01bb6a2a_nohash_0.wav'\n",
        "#x = data_dir/'right/012c8314_nohash_1.wav'"
      ],
      "metadata": {
        "id": "x4MQiAAlw1kX"
      },
      "execution_count": 26,
      "outputs": []
    },
    {
      "cell_type": "code",
      "execution_count": 27,
      "metadata": {
        "id": "zRxauKMdhofU",
        "outputId": "a0cd6341-4e79-4c58-e7f1-d98df341579c",
        "colab": {
          "base_uri": "https://localhost:8080/",
          "height": 510
        }
      },
      "outputs": [
        {
          "output_type": "display_data",
          "data": {
            "text/plain": [
              "<Figure size 640x480 with 1 Axes>"
            ],
            "image/png": "[encoded data removed]"
          },
          "metadata": {}
        },
        {
          "output_type": "display_data",
          "data": {
            "text/plain": [
              "<IPython.lib.display.Audio object>"
            ],
            "text/html": [
              "\n",
              "                <audio  controls=\"controls\" >\n",
              "                    <source src=\"data:audio/wav;base64,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\" type=\"audio/wav\" />\n",
              "                    Your browser does not support the audio element.\n",
              "                </audio>\n",
              "              "
            ]
          },
          "metadata": {}
        }
      ],
      "source": [
        "x = tf.io.read_file(str(x))\n",
        "x, sample_rate = tf.audio.decode_wav(x, desired_channels=1, desired_samples=16000,)\n",
        "x = tf.squeeze(x, axis=-1)\n",
        "waveform = x\n",
        "x = get_spectrogram(x)\n",
        "x = x[tf.newaxis,...]\n",
        "\n",
        "prediction = model(x)\n",
        "#x_labels = ['no', 'yes', 'down', 'go', 'left', 'up', 'right', 'stop']\n",
        "x_labels = ['down', 'go', 'left', 'no', 'right', 'stop', 'up', 'yes']\n",
        "plt.bar(x_labels, tf.nn.softmax(prediction[0]))\n",
        "plt.title('Prediction')\n",
        "plt.show()\n",
        "\n",
        "display.display(display.Audio(waveform, rate=16000))"
      ]
    }
  ],
  "metadata": {
    "accelerator": "GPU",
    "colab": {
      "provenance": [],
      "include_colab_link": true
    },
    "kernelspec": {
      "display_name": "Python 3",
      "name": "python3"
    },
    "gpuClass": "standard"
  },
  "nbformat": 4,
  "nbformat_minor": 0
}